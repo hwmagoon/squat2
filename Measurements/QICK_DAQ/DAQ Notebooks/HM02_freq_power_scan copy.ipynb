{
 "cells": [
  {
   "cell_type": "markdown",
   "metadata": {},
   "source": [
    "### Set up Pyro connection to the board\n",
    "``soc`` and ``soccfg`` live on the board, and we interact with them through pyro proxy objects.  This section of code connects to the pyro server running on the board to receive these objects"
   ]
  },
  {
   "cell_type": "code",
   "execution_count": 1,
   "metadata": {},
   "outputs": [
    {
     "name": "stdout",
     "output_type": "stream",
     "text": [
      "Pyro.NameServer PYRO:Pyro.NameServer@192.168.137.93:8883\n",
      "DMQIS_qick PYRO:obj_8a18b384aecc4e1d939860471324ce0e@192.168.137.103:42509\n"
     ]
    },
    {
     "name": "stderr",
     "output_type": "stream",
     "text": [
      "c:\\Users\\slab.DESKTOP-JFLC5N4\\radioconda\\envs\\DMQIS_env\\Lib\\site-packages\\tqdm\\auto.py:21: TqdmWarning: IProgress not found. Please update jupyter and ipywidgets. See https://ipywidgets.readthedocs.io/en/stable/user_install.html\n",
      "  from .autonotebook import tqdm as notebook_tqdm\n"
     ]
    }
   ],
   "source": [
    "## ------------------------------------------------ ##\n",
    "import Pyro4\n",
    "from qick import *\n",
    "\n",
    "Pyro4.config.SERIALIZER = \"pickle\"\n",
    "Pyro4.config.PICKLE_PROTOCOL_VERSION=4\n",
    "\n",
    "ns_host = \"192.168.137.93\"\n",
    "ns_port = 8883\n",
    "proxy_name = \"DMQIS_qick\"\n",
    "ns = Pyro4.locateNS(host=ns_host, port=ns_port)\n",
    "\n",
    "for k,v in ns.list().items():\n",
    "    print(k,v)\n",
    "\n",
    "soc = Pyro4.Proxy(ns.lookup(proxy_name))\n",
    "soccfg = QickConfig(soc.get_cfg())\n",
    "#print(soccfg)\n",
    "## ------------------------------------------------ ##"
   ]
  },
  {
   "cell_type": "markdown",
   "metadata": {},
   "source": [
    "### Basic Setup Parameters\n",
    "Here we specify the channel connections between the fridge and the board.\n",
    "\n",
    "I have set things up with the following configuration\n",
    "* DAC 6: goes into warm splitter into fridge line A16\n",
    "* DAC 2: goes into warm splitter into fridge line A16\n",
    "* ADC 0: comes out of fridge line C7"
   ]
  },
  {
   "cell_type": "code",
   "execution_count": 2,
   "metadata": {},
   "outputs": [],
   "source": [
    "import numpy as np\n",
    "import matplotlib.pyplot as plt\n",
    "from qick import *\n",
    "import sys\n",
    "sys.path.append('./Libraries')\n",
    "from qick_data import *\n",
    "from qick_helpers import *\n",
    "from qick_programs import *\n",
    "import tqdm\n",
    "\n",
    "datapath = 'c:\\\\_Data\\\\Hannah\\\\SQUAT_freq_power_scan'"
   ]
  },
  {
   "cell_type": "markdown",
   "metadata": {},
   "source": [
    "### Set up data handling"
   ]
  },
  {
   "cell_type": "code",
   "execution_count": 8,
   "metadata": {},
   "outputs": [
    {
     "name": "stdout",
     "output_type": "stream",
     "text": [
      "Creating dataset with series 20240513_115743\n",
      "converting time variables from us to clock ticks\n",
      "====---------------------------====\n",
      "         20240513_115743\n",
      "====---------------------------====\n",
      "       Device =  C11\n",
      "       Qubits =  ['1']\n",
      "    Meas Type =  freq_power_scan_CB\n",
      "====---------------------------====\n",
      "20240513_115743\n"
     ]
    },
    {
     "name": "stderr",
     "output_type": "stream",
     "text": [
      "100%|██████████| 15/15 [09:41<00:00, 38.80s/it]"
     ]
    },
    {
     "name": "stdout",
     "output_type": "stream",
     "text": [
      "Saving data as: 20240513_115743_freq_power_scan_CB.h5\n"
     ]
    },
    {
     "name": "stderr",
     "output_type": "stream",
     "text": [
      "\n"
     ]
    }
   ],
   "source": [
    "## Initialize a measurement object\n",
    "## This object holds dictionaries\n",
    "## Not much else to it.  Just a container that handles export/import\n",
    "meas = QICKdata()\n",
    "\n",
    "## Next we fill the metadata dictionary\n",
    "meas.set_metadata(device=\"C11\", qubits=[\"1\"], meas_type=\"freq_power_scan_CB\")\n",
    "\n",
    "## Then specify the connection channels\n",
    "meas.set_hw_cfg(res_ch=chargebias_ch, qu_ch=None, ro_ch=ro_ch)\n",
    "\n",
    "## Finally specify pulse parameters\n",
    "meas.meas_cfg = {\"relax_delay_us\" : 0,\n",
    "            \"adc_trig_offset_us\"  : 0.506,\n",
    "            \"readout_length_us\"   : 20, #0.2,\n",
    "   \n",
    "            \"res_style\"     : \"const\",\n",
    "            ## \"res_gain\"      : 1100, #30000,\n",
    "            \"res_length_us\" : 20, #0.279,\n",
    "            \"res_phase\"     : 0,\n",
    "            ## commenting out because this is a freq scan\n",
    "            ## \"res_freq\" : 3000, ## MHz\n",
    "\n",
    "            \"reps\"          : 2000,   ## Averages in firmware\n",
    "            \"soft_avgs\"     : 1,      ## Averages in software\n",
    "       }\n",
    "\n",
    "## Convert time variables from us to clock ticks\n",
    "meas = convert_time_vars(soccfg, meas)\n",
    "print(meas)\n",
    "\n",
    "## Set up sweep values\n",
    "gains = np.linspace(100, 20000, 15)\n",
    "RF_freqs = np.linspace(7340, 7370, num=600)\n",
    "\n",
    "## Do measurement\n",
    "Ivals = np.zeros((len(gains), len(RF_freqs)))\n",
    "Qvals = np.zeros((len(gains), len(RF_freqs)))\n",
    "config = {**meas.hw_cfg, **meas.meas_cfg}\n",
    "for j, g in enumerate(tqdm.tqdm(gains)):\n",
    "    ## Gain needs to be an int\n",
    "    g = int(g)\n",
    "    gains[j] = g\n",
    "    config['res_gain'] = g\n",
    "    for i, f in enumerate(RF_freqs):\n",
    "        config[\"res_freq\"] = f\n",
    "        prog =oneTonePulse(soccfg, config)\n",
    "        [[I]], [[Q]] = prog.acquire(soc)\n",
    "        Ivals[j][i] = I\n",
    "        Qvals[j][i] = Q\n",
    "\n",
    "##  IMPORTANT make sure you save the data\n",
    "meas.meas_data = {\"gains\" : gains, \"RF_freqs\" : RF_freqs, \"Ivals\" : Ivals, \"Qvals\" : Qvals, \"datastorage\" : \"IQvalue[gain index][freq index]\"}\n",
    "meas.write_H5(datapath)\n"
   ]
  },
  {
   "cell_type": "code",
   "execution_count": null,
   "metadata": {},
   "outputs": [],
   "source": []
  }
 ],
 "metadata": {
  "kernelspec": {
   "display_name": "Python 3 (ipykernel)",
   "language": "python",
   "name": "python3"
  },
  "language_info": {
   "codemirror_mode": {
    "name": "ipython",
    "version": 3
   },
   "file_extension": ".py",
   "mimetype": "text/x-python",
   "name": "python",
   "nbconvert_exporter": "python",
   "pygments_lexer": "ipython3",
   "version": "3.12.2"
  }
 },
 "nbformat": 4,
 "nbformat_minor": 2
}
