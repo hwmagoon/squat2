{
 "cells": [
  {
   "cell_type": "code",
   "execution_count": 1,
   "metadata": {},
   "outputs": [],
   "source": [
    "import numpy as np"
   ]
  },
  {
   "cell_type": "markdown",
   "metadata": {},
   "source": [
    "## Find voltage needed to induce 2e offset in n_g"
   ]
  },
  {
   "cell_type": "code",
   "execution_count": 12,
   "metadata": {},
   "outputs": [
    {
     "name": "stdout",
     "output_type": "stream",
     "text": [
      "On chip voltage needed to induce 2e offset charge on SQUAT:  6.074027561368591 uV\n"
     ]
    }
   ],
   "source": [
    "## Constants\n",
    "mV = 1e-3\n",
    "pF = 1e-12\n",
    "e = 1.60217662e-19\n",
    "\n",
    "## Capacitance values from Chiara [https://docs.google.com/spreadsheets/d/1mLrkivUEg08DwR1by6JOdcQVONi7RsQK1ZKl2Sh9CKw/edit#gid=0]\n",
    "C_TL_to_both_fins = 0.052755 * pF \n",
    "C_TL_to_fin2 = 0.036664 * pF\n",
    "C_TL_to_fin3 = 0.036314 * pF\n",
    "\n",
    "\n",
    "def get_cap_V(Q, C):\n",
    "    return Q / C\n",
    "\n",
    "\n",
    "print(\"On chip voltage needed to induce 2e offset charge on SQUAT: \", get_cap_V(2*e, C_TL_to_both_fins) * 1e6, \"uV\")\n",
    "#print(\"On chip voltage needed to induce 2e charge on Fin 2: \", get_cap_V(2*e, C_TL_to_fin2) * 1e6, \"uV\")"
   ]
  },
  {
   "cell_type": "markdown",
   "metadata": {},
   "source": [
    "### Attenuation on different input lines in the BFG"
   ]
  },
  {
   "cell_type": "code",
   "execution_count": 7,
   "metadata": {},
   "outputs": [],
   "source": [
    "A_atten = {\n",
    "    \"50K\" : None,\n",
    "    \"4K\" : 20,\n",
    "    \"Still\" : None,\n",
    "    \"Cold\" : 20,\n",
    "    \"MC\" : 20\n",
    "}\n",
    "\n",
    "B_atten = {\n",
    "    \"50K\" : None,\n",
    "    \"4K\" : 20,\n",
    "    \"Still\" : None,\n",
    "    \"Cold\" : 20,\n",
    "    \"MC\" : 10\n",
    "}\n",
    "\n",
    "D_atten = {\n",
    "    \"50K\" : None,\n",
    "    \"4K\" : 20,\n",
    "    \"Still\" : None,\n",
    "    \"Cold\" : 1,\n",
    "    \"MC\" : None\n",
    "}\n"
   ]
  },
  {
   "cell_type": "markdown",
   "metadata": {},
   "source": [
    "## Look at what warm voltages are necessary for each line type.  Calc heat dissipationn on MC"
   ]
  },
  {
   "cell_type": "code",
   "execution_count": 49,
   "metadata": {},
   "outputs": [
    {
     "name": "stdout",
     "output_type": "stream",
     "text": [
      "Attenuation at MC stage:  20\n",
      "Heat dissipated on MC:  0.00016200000000000003 uW\n",
      "Voltage on chip for input line A:  10.0 uV \n",
      "\n",
      "\n",
      "Attenuation at MC stage:  10\n",
      "Heat dissipated on MC:  9.575310703950318e-06 uW\n",
      "Voltage on chip for input line B:  10.119288512538814 uV \n",
      "\n",
      "\n",
      "No attenuation at MC stage, can't calculate heat dissipated\n",
      "Voltage on chip for input line D:  8.912509381337456 uV \n",
      "\n",
      "\n"
     ]
    }
   ],
   "source": [
    "def dB_to_ratio(dB):\n",
    "    return 10**(dB/20)\n",
    "\n",
    "def calc_voltage_on_chip(V_in, atten):\n",
    "    cumulative_atten = 1\n",
    "    for stage, dB in atten.items():\n",
    "        if dB is not None:\n",
    "            cumulative_atten *= dB_to_ratio(dB)\n",
    "        if stage == \"MC\" and dB is not None:\n",
    "            print(\"Attenuation at MC stage: \", dB)\n",
    "            V_before_mc = V_in / cumulative_atten\n",
    "            V_after_mc = V_before_mc * dB_to_ratio(dB)\n",
    "            heat_dissipated = (V_before_mc - V_after_mc)**2 / 50\n",
    "            print(\"Heat dissipated on MC: \", heat_dissipated*1e6, \"uW\")\n",
    "        elif stage == \"MC\":\n",
    "            print(\"No attenuation at MC stage, can't calculate heat dissipated\")\n",
    "    V_out = V_in / cumulative_atten\n",
    "    return V_out\n",
    "\n",
    "## Run for each line\n",
    "V_in = 10 * mV\n",
    "V_out = calc_voltage_on_chip(V_in, A_atten)\n",
    "print(\"Voltage on chip for input line A: \", V_out*1e6, \"uV \\n\\n\")    \n",
    "\n",
    "V_in = 3.2 * mV\n",
    "V_out = calc_voltage_on_chip(V_in, B_atten)\n",
    "print(\"Voltage on chip for input line B: \", V_out*1e6, \"uV \\n\\n\")    \n",
    "\n",
    "V_in = 0.1 * mV\n",
    "V_out = calc_voltage_on_chip(V_in, D_atten)\n",
    "print(\"Voltage on chip for input line D: \", V_out*1e6, \"uV \\n\\n\")    "
   ]
  },
  {
   "cell_type": "markdown",
   "metadata": {},
   "source": []
  }
 ],
 "metadata": {
  "kernelspec": {
   "display_name": "base",
   "language": "python",
   "name": "python3"
  },
  "language_info": {
   "codemirror_mode": {
    "name": "ipython",
    "version": 3
   },
   "file_extension": ".py",
   "mimetype": "text/x-python",
   "name": "python",
   "nbconvert_exporter": "python",
   "pygments_lexer": "ipython3",
   "version": "3.9.19"
  }
 },
 "nbformat": 4,
 "nbformat_minor": 2
}
